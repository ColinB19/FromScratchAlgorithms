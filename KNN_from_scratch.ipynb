{
 "cells": [
  {
   "cell_type": "markdown",
   "metadata": {},
   "source": [
    "# k-Nearest-Neighbors from Scratch\n",
    "\n",
    "Let's look at coding up one of the simplest machine learning (ML) algorithms: k-Nearest-Neighbors (kNN). kNN is an ML algorithm that classifies an object based on some distance metric from other labeled objects. "
   ]
  },
  {
   "cell_type": "code",
   "execution_count": 26,
   "metadata": {},
   "outputs": [],
   "source": [
    "import numpy as np\n",
    "import pandas as pd\n",
    "import matplotlib.pyplot as plt\n",
    "from collections import Counter\n",
    "%matplotlib inline"
   ]
  },
  {
   "cell_type": "code",
   "execution_count": 2,
   "metadata": {},
   "outputs": [],
   "source": [
    "# first we need a function to compute the distance metric. We can use several different metrics but let's\n",
    "# just start with the standard euclidian distance. \n",
    "euc_dist = lambda x: np.linalg.norm(x[1]-x[0])"
   ]
  },
  {
   "cell_type": "code",
   "execution_count": 172,
   "metadata": {},
   "outputs": [],
   "source": [
    "# great! now let's build a classifier\n",
    "def test_set(train, test, k=5, distance_metric = euc_dist, reverse = False):\n",
    "    correct = 0\n",
    "    for index, row in test.iterrows():\n",
    "        prediction = predict(train,row[:-1], k, distance_metric, reverse)\n",
    "        if (prediction[-1] == row[-1]):\n",
    "            correct += 1\n",
    "    print(\"Congrats, you have {:.2%} accuracy!\\n\\n\".format(correct/len(test)))\n",
    "    \n",
    "    return correct/len(test)\n",
    "\n",
    "def predict(train, test_vec, k=5, distance_metric = euc_dist, reverse = False):\n",
    "    distance = []\n",
    "\n",
    "    # compute distance metric for every instance of the training set\n",
    "    for index, row in train.iterrows():\n",
    "        dist = distance_metric([row[:-1],test_vec])\n",
    "        distance.append([row,dist])\n",
    "    distance.sort(key = lambda x: x[1], reverse=reverse)\n",
    "\n",
    "    # now look at the k-nearest-neighbors and have them vote on the label!\n",
    "    pred = vote(distance, k)\n",
    "    \n",
    "    return (test_vec,pred[0])\n",
    "\n",
    "\n",
    "def vote(distance, k):\n",
    "    knn = distance[:k]\n",
    "    occurances = Counter(row[0]['class'] for row in knn)\n",
    "    occurances = [(key, value) for key, value in sorted(occurances.items(), key=lambda item: item[1], reverse = True)]\n",
    "    \n",
    "    # if we have a tie we want to reduce k until we break the tie!\n",
    "    if ((len(occurances) > 1) and (occurances[0][1] == occurances[1][1])):\n",
    "        print('tie!\\n')\n",
    "        answer = vote(distance, k-1)\n",
    "    else:\n",
    "        answer = occurances[0]\n",
    "    \n",
    "    return answer"
   ]
  },
  {
   "cell_type": "code",
   "execution_count": 156,
   "metadata": {},
   "outputs": [
    {
     "data": {
      "text/html": [
       "<div>\n",
       "<style scoped>\n",
       "    .dataframe tbody tr th:only-of-type {\n",
       "        vertical-align: middle;\n",
       "    }\n",
       "\n",
       "    .dataframe tbody tr th {\n",
       "        vertical-align: top;\n",
       "    }\n",
       "\n",
       "    .dataframe thead th {\n",
       "        text-align: right;\n",
       "    }\n",
       "</style>\n",
       "<table border=\"1\" class=\"dataframe\">\n",
       "  <thead>\n",
       "    <tr style=\"text-align: right;\">\n",
       "      <th></th>\n",
       "      <th>sepal length (cm)</th>\n",
       "      <th>sepal width (cm)</th>\n",
       "      <th>petal length (cm)</th>\n",
       "      <th>petal width (cm)</th>\n",
       "      <th>class</th>\n",
       "    </tr>\n",
       "  </thead>\n",
       "  <tbody>\n",
       "    <tr>\n",
       "      <th>21</th>\n",
       "      <td>5.1</td>\n",
       "      <td>3.7</td>\n",
       "      <td>1.5</td>\n",
       "      <td>0.4</td>\n",
       "      <td>0</td>\n",
       "    </tr>\n",
       "    <tr>\n",
       "      <th>73</th>\n",
       "      <td>6.1</td>\n",
       "      <td>2.8</td>\n",
       "      <td>4.7</td>\n",
       "      <td>1.2</td>\n",
       "      <td>1</td>\n",
       "    </tr>\n",
       "    <tr>\n",
       "      <th>135</th>\n",
       "      <td>7.7</td>\n",
       "      <td>3.0</td>\n",
       "      <td>6.1</td>\n",
       "      <td>2.3</td>\n",
       "      <td>2</td>\n",
       "    </tr>\n",
       "    <tr>\n",
       "      <th>128</th>\n",
       "      <td>6.4</td>\n",
       "      <td>2.8</td>\n",
       "      <td>5.6</td>\n",
       "      <td>2.1</td>\n",
       "      <td>2</td>\n",
       "    </tr>\n",
       "    <tr>\n",
       "      <th>53</th>\n",
       "      <td>5.5</td>\n",
       "      <td>2.3</td>\n",
       "      <td>4.0</td>\n",
       "      <td>1.3</td>\n",
       "      <td>1</td>\n",
       "    </tr>\n",
       "  </tbody>\n",
       "</table>\n",
       "</div>"
      ],
      "text/plain": [
       "     sepal length (cm)  sepal width (cm)  petal length (cm)  petal width (cm)  \\\n",
       "21                 5.1               3.7                1.5               0.4   \n",
       "73                 6.1               2.8                4.7               1.2   \n",
       "135                7.7               3.0                6.1               2.3   \n",
       "128                6.4               2.8                5.6               2.1   \n",
       "53                 5.5               2.3                4.0               1.3   \n",
       "\n",
       "     class  \n",
       "21       0  \n",
       "73       1  \n",
       "135      2  \n",
       "128      2  \n",
       "53       1  "
      ]
     },
     "execution_count": 156,
     "metadata": {},
     "output_type": "execute_result"
    }
   ],
   "source": [
    "# here I will be using sklearn but only to grab the data and split it into a train and test set. \n",
    "from sklearn.datasets import load_iris\n",
    "from sklearn.model_selection import train_test_split\n",
    "iris_data = load_iris()\n",
    "Y_iris = iris_data.target\n",
    "iris_data = pd.DataFrame(iris_data.data,\n",
    "                            columns = iris_data.feature_names)\n",
    "iris_data = pd.concat([iris_data,pd.Series(Y_iris)],axis=1)\n",
    "iris_data.rename(columns = {0:'class'},inplace=True)\n",
    "train, test = train_test_split(iris_data, test_size = 0.2, shuffle = True)\n",
    "train.head()"
   ]
  },
  {
   "cell_type": "code",
   "execution_count": 157,
   "metadata": {},
   "outputs": [
    {
     "name": "stdout",
     "output_type": "stream",
     "text": [
      "Testing k = 3...\n",
      "\n",
      "Congrats, you have 96.67% accuracy!\n",
      "\n",
      "\n",
      "Testing k = 5...\n",
      "\n",
      "Congrats, you have 96.67% accuracy!\n",
      "\n",
      "\n",
      "Testing k = 7...\n",
      "\n",
      "Congrats, you have 96.67% accuracy!\n",
      "\n",
      "\n",
      "Testing k = 9...\n",
      "\n",
      "Congrats, you have 96.67% accuracy!\n",
      "\n",
      "\n",
      "Testing k = 11...\n",
      "\n",
      "Congrats, you have 96.67% accuracy!\n",
      "\n",
      "\n",
      "Testing k = 13...\n",
      "\n",
      "Congrats, you have 96.67% accuracy!\n",
      "\n",
      "\n",
      "Testing k = 15...\n",
      "\n",
      "Congrats, you have 96.67% accuracy!\n",
      "\n",
      "\n"
     ]
    }
   ],
   "source": [
    "# now let's test different values of k for some parameter tuning\n",
    "k_list = [3,5,7,9,11,13,15] # this way I'll get no 3-way ties\n",
    "\n",
    "for k in k_list:\n",
    "    print('Testing k = {}...\\n'.format(k))\n",
    "    test_set(train, test, k)"
   ]
  },
  {
   "cell_type": "code",
   "execution_count": 163,
   "metadata": {},
   "outputs": [],
   "source": [
    "# this is pretty good. If we were being good about ML we would perform some cross validation but we are really\n",
    "# just demonstrating the method here. I would like to see how these results differ with different metrics!\n",
    "# Let's test out Cosine distance ... Note there are MANY distance measures and diving into \n",
    "# which ones perform the best could consititute an entirely separate post.\n",
    "\n",
    "cosine_distance = lambda x: (np.dot(x[0],x[1]))/((np.linalg.norm(x[0]))*(np.linalg.norm(x[1])))"
   ]
  },
  {
   "cell_type": "code",
   "execution_count": 177,
   "metadata": {},
   "outputs": [
    {
     "name": "stdout",
     "output_type": "stream",
     "text": [
      "Congrats, you have 100.00% accuracy!\n",
      "\n",
      "\n"
     ]
    },
    {
     "data": {
      "text/plain": [
       "1.0"
      ]
     },
     "execution_count": 177,
     "metadata": {},
     "output_type": "execute_result"
    }
   ],
   "source": [
    "test_set(train, test, k = 1, distance_metric = cosine_distance, reverse = True)"
   ]
  },
  {
   "cell_type": "code",
   "execution_count": 160,
   "metadata": {},
   "outputs": [
    {
     "name": "stdout",
     "output_type": "stream",
     "text": [
      "Congrats, you have 96.67% accuracy!\n",
      "\n",
      "\n"
     ]
    },
    {
     "data": {
      "text/plain": [
       "0.9666666666666667"
      ]
     },
     "execution_count": 160,
     "metadata": {},
     "output_type": "execute_result"
    }
   ],
   "source": [
    "L1_distance = lambda vec: np.linalg.norm(vec[1]-vec[0],ord=1)\n",
    "test_set(train, test, k = 3, distance_metric = L1_distance)"
   ]
  },
  {
   "cell_type": "code",
   "execution_count": 183,
   "metadata": {},
   "outputs": [
    {
     "data": {
      "text/plain": [
       "1.0"
      ]
     },
     "execution_count": 183,
     "metadata": {},
     "output_type": "execute_result"
    }
   ],
   "source": []
  },
  {
   "cell_type": "code",
   "execution_count": null,
   "metadata": {},
   "outputs": [],
   "source": []
  }
 ],
 "metadata": {
  "kernelspec": {
   "display_name": "Python 3",
   "language": "python",
   "name": "python3"
  },
  "language_info": {
   "codemirror_mode": {
    "name": "ipython",
    "version": 3
   },
   "file_extension": ".py",
   "mimetype": "text/x-python",
   "name": "python",
   "nbconvert_exporter": "python",
   "pygments_lexer": "ipython3",
   "version": "3.7.7"
  }
 },
 "nbformat": 4,
 "nbformat_minor": 4
}
